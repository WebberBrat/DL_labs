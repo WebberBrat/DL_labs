{
 "cells": [
  {
   "cell_type": "markdown",
   "id": "dd0b876e",
   "metadata": {},
   "source": [
    "# Food101 CNN Classification (Fixed)\n",
    "\n",
    "This notebook demonstrates loading the Food101 dataset, ensuring all images are RGB, defining custom collate functions, and training a simple CNN without normalization broadcast errors."
   ]
  },
  {
   "cell_type": "code",
   "execution_count": null,
   "id": "196638b6",
   "metadata": {},
   "outputs": [],
   "source": []
  },
  {
   "cell_type": "code",
   "execution_count": 3,
   "id": "9a9e8d0a",
   "metadata": {},
   "outputs": [],
   "source": [
    "import torch\n",
    "from torch.utils.data import DataLoader\n",
    "from torchvision import transforms\n",
    "from datasets import load_dataset\n",
    "from PIL import Image\n",
    "from tqdm import tqdm"
   ]
  },
  {
   "cell_type": "code",
   "execution_count": 5,
   "id": "3c08b6f2",
   "metadata": {},
   "outputs": [],
   "source": [
    "## 1. Define transforms and collate functions\n",
    "\n",
    "# Transforms\n",
    "train_tf = transforms.Compose([\n",
    "    transforms.Resize((128,128)),\n",
    "    transforms.RandomHorizontalFlip(),\n",
    "    transforms.ToTensor(),\n",
    "    transforms.Normalize(mean=[0.485,0.456,0.406], std=[0.229,0.224,0.225]),\n",
    "])\n",
    "test_tf = transforms.Compose([\n",
    "    transforms.Resize((128,128)),\n",
    "    transforms.ToTensor(),\n",
    "    transforms.Normalize(mean=[0.485,0.456,0.406], std=[0.229,0.224,0.225]),\n",
    "])\n",
    "\n",
    "# Custom collate functions that convert to RGB\n",
    "def train_collate_fn(batch):\n",
    "    imgs = []\n",
    "    for item in batch:\n",
    "        img = item['image']\n",
    "        if isinstance(img, Image.Image) and img.mode != 'RGB':\n",
    "            img = img.convert('RGB')\n",
    "        imgs.append(train_tf(img))\n",
    "    pixel_values = torch.stack(imgs)\n",
    "    labels = torch.tensor([item['label'] for item in batch], dtype=torch.long)\n",
    "    return {'pixel_values': pixel_values, 'labels': labels}\n",
    "\n",
    "def test_collate_fn(batch):\n",
    "    imgs = []\n",
    "    for item in batch:\n",
    "        img = item['image']\n",
    "        if isinstance(img, Image.Image) and img.mode != 'RGB':\n",
    "            img = img.convert('RGB')\n",
    "        imgs.append(test_tf(img))\n",
    "    pixel_values = torch.stack(imgs)\n",
    "    labels = torch.tensor([item['label'] for item in batch], dtype=torch.long)\n",
    "    return {'pixel_values': pixel_values, 'labels': labels}"
   ]
  },
  {
   "cell_type": "code",
   "execution_count": 7,
   "id": "b856368a",
   "metadata": {},
   "outputs": [
    {
     "name": "stdout",
     "output_type": "stream",
     "text": [
      "Number of training batches: 1184\n",
      "Number of validation batches: 395\n"
     ]
    }
   ],
   "source": [
    "## 2. Load dataset and create DataLoaders\n",
    "\n",
    "raw_train = load_dataset('food101', split='train')\n",
    "raw_test  = load_dataset('food101', split='validation')\n",
    "\n",
    "train_loader = DataLoader(raw_train, batch_size=64, shuffle=True, collate_fn=train_collate_fn)\n",
    "test_loader  = DataLoader(raw_test,  batch_size=64, shuffle=False, collate_fn=test_collate_fn)\n",
    "\n",
    "print('Number of training batches:', len(train_loader))\n",
    "print('Number of validation batches:', len(test_loader))"
   ]
  },
  {
   "cell_type": "code",
   "execution_count": 9,
   "id": "5f10acfe",
   "metadata": {},
   "outputs": [],
   "source": [
    "## 3. Define the CNN model\n",
    "\n",
    "import torch.nn as nn\n",
    "import torch.nn.functional as F\n",
    "\n",
    "class SimpleFoodCNN(nn.Module):\n",
    "    def __init__(self, num_classes=101):\n",
    "        super().__init__()\n",
    "        self.conv1 = nn.Conv2d(3, 32, kernel_size=3, padding=1)\n",
    "        self.conv2 = nn.Conv2d(32, 64, kernel_size=3, padding=1)\n",
    "        self.conv3 = nn.Conv2d(64, 128, kernel_size=3, padding=1)\n",
    "        self.pool  = nn.MaxPool2d(2,2)\n",
    "        self.fc1   = nn.Linear(128 * 16 * 16, 512)\n",
    "        self.fc2   = nn.Linear(512, num_classes)\n",
    "        self.dropout = nn.Dropout(0.5)\n",
    "\n",
    "    def forward(self, x):\n",
    "        x = self.pool(F.relu(self.conv1(x)))\n",
    "        x = self.pool(F.relu(self.conv2(x)))\n",
    "        x = self.pool(F.relu(self.conv3(x)))\n",
    "        x = x.view(x.size(0), -1)\n",
    "        x = self.dropout(F.relu(self.fc1(x)))\n",
    "        return self.fc2(x)\n",
    "\n",
    "# Instantiate\n",
    "device = torch.device('cuda' if torch.cuda.is_available() else 'cpu')\n",
    "model = SimpleFoodCNN().to(device)"
   ]
  },
  {
   "cell_type": "code",
   "execution_count": 11,
   "id": "3825ec36",
   "metadata": {},
   "outputs": [],
   "source": [
    "## 4. Training and evaluation functions\n",
    "\n",
    "import torch.optim as optim\n",
    "\n",
    "criterion = nn.CrossEntropyLoss()\n",
    "optimizer = optim.Adam(model.parameters(), lr=1e-3)\n",
    "\n",
    "def train_epoch(loader):\n",
    "    model.train()\n",
    "    total_loss, correct, total = 0, 0, 0\n",
    "    for batch in tqdm(loader, desc='Train'):\n",
    "        imgs, labels = batch['pixel_values'].to(device), batch['labels'].to(device)\n",
    "        optimizer.zero_grad()\n",
    "        logits = model(imgs)\n",
    "        loss = criterion(logits, labels)\n",
    "        loss.backward()\n",
    "        optimizer.step()\n",
    "        total_loss += loss.item() * imgs.size(0)\n",
    "        preds = logits.argmax(dim=-1)\n",
    "        correct += (preds == labels).sum().item()\n",
    "        total += imgs.size(0)\n",
    "    return total_loss/total, correct/total\n",
    "\n",
    "def eval_epoch(loader):\n",
    "    model.eval()\n",
    "    correct, total = 0, 0\n",
    "    with torch.no_grad():\n",
    "        for batch in tqdm(loader, desc='Eval '):\n",
    "            imgs, labels = batch['pixel_values'].to(device), batch['labels'].to(device)\n",
    "            logits = model(imgs)\n",
    "            preds = logits.argmax(dim=-1)\n",
    "            correct += (preds == labels).sum().item()\n",
    "            total += imgs.size(0)\n",
    "    return correct/total"
   ]
  },
  {
   "cell_type": "code",
   "execution_count": 13,
   "id": "0819d68c",
   "metadata": {},
   "outputs": [
    {
     "name": "stderr",
     "output_type": "stream",
     "text": [
      "Train:  27%|███████████████████▎                                                    | 318/1184 [01:30<04:01,  3.58it/s]D:\\ana\\Lib\\site-packages\\PIL\\TiffImagePlugin.py:890: UserWarning: Truncated File Read\n",
      "  warnings.warn(str(msg))\n",
      "Train: 100%|███████████████████████████████████████████████████████████████████████| 1184/1184 [05:32<00:00,  3.56it/s]\n",
      "Eval : 100%|█████████████████████████████████████████████████████████████████████████| 395/395 [01:42<00:00,  3.85it/s]\n"
     ]
    },
    {
     "name": "stdout",
     "output_type": "stream",
     "text": [
      "Epoch 1: Loss=4.3568, Train Acc=0.044, Val Acc=0.107\n"
     ]
    },
    {
     "name": "stderr",
     "output_type": "stream",
     "text": [
      "Train: 100%|███████████████████████████████████████████████████████████████████████| 1184/1184 [05:35<00:00,  3.53it/s]\n",
      "Eval : 100%|█████████████████████████████████████████████████████████████████████████| 395/395 [01:40<00:00,  3.94it/s]\n"
     ]
    },
    {
     "name": "stdout",
     "output_type": "stream",
     "text": [
      "Epoch 2: Loss=3.8291, Train Acc=0.122, Val Acc=0.187\n"
     ]
    },
    {
     "name": "stderr",
     "output_type": "stream",
     "text": [
      "Train: 100%|███████████████████████████████████████████████████████████████████████| 1184/1184 [05:32<00:00,  3.57it/s]\n",
      "Eval : 100%|█████████████████████████████████████████████████████████████████████████| 395/395 [01:38<00:00,  4.00it/s]\n"
     ]
    },
    {
     "name": "stdout",
     "output_type": "stream",
     "text": [
      "Epoch 3: Loss=3.5029, Train Acc=0.177, Val Acc=0.235\n"
     ]
    },
    {
     "name": "stderr",
     "output_type": "stream",
     "text": [
      "Train: 100%|███████████████████████████████████████████████████████████████████████| 1184/1184 [05:28<00:00,  3.60it/s]\n",
      "Eval : 100%|█████████████████████████████████████████████████████████████████████████| 395/395 [01:42<00:00,  3.84it/s]\n"
     ]
    },
    {
     "name": "stdout",
     "output_type": "stream",
     "text": [
      "Epoch 4: Loss=3.2657, Train Acc=0.219, Val Acc=0.257\n"
     ]
    },
    {
     "name": "stderr",
     "output_type": "stream",
     "text": [
      "Train: 100%|███████████████████████████████████████████████████████████████████████| 1184/1184 [05:34<00:00,  3.54it/s]\n",
      "Eval : 100%|█████████████████████████████████████████████████████████████████████████| 395/395 [01:35<00:00,  4.15it/s]"
     ]
    },
    {
     "name": "stdout",
     "output_type": "stream",
     "text": [
      "Epoch 5: Loss=3.0526, Train Acc=0.262, Val Acc=0.276\n"
     ]
    },
    {
     "name": "stderr",
     "output_type": "stream",
     "text": [
      "\n"
     ]
    }
   ],
   "source": [
    "## 5. Run training loop\n",
    "\n",
    "epochs = 5\n",
    "for epoch in range(1, epochs+1):\n",
    "    train_loss, train_acc = train_epoch(train_loader)\n",
    "    val_acc = eval_epoch(test_loader)\n",
    "    print(f\"Epoch {epoch}: Loss={train_loss:.4f}, Train Acc={train_acc:.3f}, Val Acc={val_acc:.3f}\")"
   ]
  },
  {
   "cell_type": "code",
   "execution_count": null,
   "id": "2d20fe50-4a91-4b05-ab94-4b35bdbfb5aa",
   "metadata": {},
   "outputs": [],
   "source": []
  }
 ],
 "metadata": {
  "kernelspec": {
   "display_name": "Python 3 (ipykernel)",
   "language": "python",
   "name": "python3"
  },
  "language_info": {
   "codemirror_mode": {
    "name": "ipython",
    "version": 3
   },
   "file_extension": ".py",
   "mimetype": "text/x-python",
   "name": "python",
   "nbconvert_exporter": "python",
   "pygments_lexer": "ipython3",
   "version": "3.12.3"
  }
 },
 "nbformat": 4,
 "nbformat_minor": 5
}
